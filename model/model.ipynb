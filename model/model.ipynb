{
 "cells": [
  {
   "cell_type": "code",
   "execution_count": null,
   "metadata": {},
   "outputs": [],
   "source": [
    "from IPython.core.display import display, HTML\n",
    "display(HTML(\"<style>.container { width:100% !important; }</style>\"))"
   ]
  },
  {
   "cell_type": "code",
   "execution_count": null,
   "metadata": {
    "scrolled": true
   },
   "outputs": [],
   "source": [
    "import tensorflow as tf\n",
    "physical_devices = tf.config.list_physical_devices('GPU') \n",
    "tf.config.experimental.set_memory_growth(physical_devices[0], True)"
   ]
  },
  {
   "cell_type": "code",
   "execution_count": null,
   "metadata": {},
   "outputs": [],
   "source": [
    "from tensorflow.keras.layers import Conv2D, Conv2DTranspose, BatchNormalization\n",
    "\n",
    "activation = \"tanh\"\n",
    "encoder_base = tf.keras.Sequential([\n",
    "    Conv2D(16, 3, 2, activation=activation),\n",
    "    BatchNormalization(),\n",
    "    Conv2D(32, 3, 2, activation=activation),\n",
    "    BatchNormalization(),\n",
    "    Conv2D(64, 3, 2, activation=activation),\n",
    "    BatchNormalization(),\n",
    "    Conv2D(64, 3, 2, activation=activation),\n",
    "    BatchNormalization(),\n",
    "    Conv2D(128, 3, 2, activation=activation),\n",
    "    BatchNormalization(),\n",
    "    Conv2D(256, 3, 2, activation=activation),\n",
    "    BatchNormalization(),\n",
    "#     Conv2D(128, 3, 2, activation=activation),\n",
    "])\n",
    "# decoder_input_shape is fine-tunes for the result to be what we aproximately want\n",
    "decoder_input_shape = (5, 3, 256) # HWC\n",
    "decoder_base = tf.keras.Sequential([\n",
    "    BatchNormalization(),\n",
    "    Conv2DTranspose(128, 3, 2, activation=activation),\n",
    "    BatchNormalization(),\n",
    "    Conv2DTranspose(64, 3, 2, activation=activation),\n",
    "    BatchNormalization(),\n",
    "    Conv2DTranspose(32, 3, 2, activation=activation),\n",
    "    BatchNormalization(),\n",
    "    Conv2DTranspose(16, 3, 2, activation=activation),\n",
    "    BatchNormalization(),\n",
    "    Conv2DTranspose(3, 3, 2, activation=\"sigmoid\"),\n",
    "])\n",
    "HEIGHT, WIDTH = decoder_base.compute_output_shape((None, *decoder_input_shape, None))[1:3]\n",
    "CHANNELS = decoder_base.layers[-1].filters\n",
    "input_shape = HEIGHT, WIDTH, CHANNELS\n",
    "input_shape"
   ]
  },
  {
   "cell_type": "code",
   "execution_count": null,
   "metadata": {},
   "outputs": [],
   "source": [
    "from cvae import CVAE\n",
    "model = CVAE(\n",
    "    input_shape=input_shape,\n",
    "    decoder_input_shape=decoder_input_shape,\n",
    "    latent_dim=256,\n",
    "    encoder_base=encoder_base,\n",
    "    decoder_base=decoder_base,\n",
    ")"
   ]
  },
  {
   "cell_type": "code",
   "execution_count": null,
   "metadata": {},
   "outputs": [],
   "source": [
    "# loss = tf.keras.losses.MeanSquaredError(name=\"MSE\")\n",
    "\n",
    "from perceptive_loss import PerceptionLoss\n",
    "loss = PerceptionLoss(input_shape)"
   ]
  },
  {
   "cell_type": "code",
   "execution_count": null,
   "metadata": {},
   "outputs": [],
   "source": []
  },
  {
   "cell_type": "code",
   "execution_count": null,
   "metadata": {},
   "outputs": [],
   "source": [
    "from data import find_splitting_timestamp, make_dataset\n",
    "\n",
    "sqlite_path = '../fast_images.db'\n",
    "split_ts = find_splitting_timestamp(sqlite_path, 0.7)\n",
    "batch_size = 64\n",
    "\n",
    "def to_float(ts, image):\n",
    "    with tf.device(\"cpu\"):\n",
    "        return ts, tf.image.convert_image_dtype(image, \"float32\")\n",
    "\n",
    "train_dataset = make_dataset(\n",
    "    sqlite_path, input_shape, end_ts=split_ts, shuffle=True,\n",
    ").map(to_float).batch(batch_size)\n",
    "test_dataset = make_dataset(\n",
    "    sqlite_path, input_shape, begin_ts=split_ts, shuffle=True,\n",
    ").map(to_float).batch(batch_size)"
   ]
  },
  {
   "cell_type": "code",
   "execution_count": null,
   "metadata": {},
   "outputs": [],
   "source": []
  },
  {
   "cell_type": "code",
   "execution_count": null,
   "metadata": {},
   "outputs": [],
   "source": [
    "model.compile(\n",
    "    optimizer=tf.keras.optimizers.Adam(learning_rate=0.0001),\n",
    "    loss=loss,\n",
    "    loss_weights=10000.,\n",
    ")"
   ]
  },
  {
   "cell_type": "code",
   "execution_count": null,
   "metadata": {},
   "outputs": [],
   "source": []
  },
  {
   "cell_type": "code",
   "execution_count": null,
   "metadata": {
    "scrolled": true
   },
   "outputs": [],
   "source": [
    "\n",
    "import matplotlib.pyplot as plt\n",
    "\n",
    "def ae_map(ts, image):\n",
    "    return image, image\n",
    "\n",
    "model.fit(\n",
    "    train_dataset.map(ae_map),\n",
    "    epochs=1000,\n",
    "    validation_data=test_dataset.map(ae_map),\n",
    "    validation_freq=1,\n",
    ")"
   ]
  },
  {
   "cell_type": "code",
   "execution_count": null,
   "metadata": {},
   "outputs": [],
   "source": []
  },
  {
   "cell_type": "code",
   "execution_count": null,
   "metadata": {},
   "outputs": [],
   "source": [
    "import numpy as np\n",
    "import matplotlib.pyplot as plt\n",
    "\n",
    "sample = next(iter(test_dataset))[1][:1]\n",
    "predictions = model(sample)\n",
    "mean, logvar = model.encoder(sample)\n",
    "predictions, sample, mean, logvar = [\n",
    "    x[0].numpy() for x in [predictions, sample, mean, logvar]\n",
    "]\n",
    "\n",
    "print(np.mean(np.square(predictions - sample)))\n",
    "plt.figure()\n",
    "plt.subplots(ncols=2)\n",
    "plt.subplot(1, 2, 1).hist(mean)\n",
    "plt.subplot(1, 2, 2).hist(logvar);\n",
    "plt.show()\n",
    "\n",
    "plt.figure()\n",
    "plt.subplots(ncols=2)\n",
    "plt.subplot(1, 2, 1).imshow(sample)\n",
    "plt.subplot(1, 2, 2).imshow(predictions)\n",
    "plt.show()"
   ]
  },
  {
   "cell_type": "code",
   "execution_count": null,
   "metadata": {},
   "outputs": [],
   "source": []
  }
 ],
 "metadata": {
  "@webio": {
   "lastCommId": null,
   "lastKernelId": null
  },
  "kernelspec": {
   "display_name": "Python 3",
   "language": "python",
   "name": "python3"
  },
  "language_info": {
   "codemirror_mode": {
    "name": "ipython",
    "version": 3
   },
   "file_extension": ".py",
   "mimetype": "text/x-python",
   "name": "python",
   "nbconvert_exporter": "python",
   "pygments_lexer": "ipython3",
   "version": "3.8.5"
  }
 },
 "nbformat": 4,
 "nbformat_minor": 4
}
